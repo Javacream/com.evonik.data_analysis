{
 "cells": [
  {
   "attachments": {},
   "cell_type": "markdown",
   "metadata": {},
   "source": [
    "Use this notebook to execute, modify and extend the samples from the LinkedIn Course \"Python lernen\".    \n",
    "For every sample create a two new cells, the first as markdown, the second as Python. In the first cell enter the name of the .py-file you want to execute, then copy the sample code from the .py-file to the second cell cell.    \n",
    "As an example we included the sample file VariablenDeklaration.py"
   ]
  },
  {
   "attachments": {},
   "cell_type": "markdown",
   "metadata": {},
   "source": [
    "### VariablenDeklaration.py"
   ]
  },
  {
   "cell_type": "code",
   "execution_count": null,
   "metadata": {
    "vscode": {
     "languageId": "plaintext"
    }
   },
   "outputs": [],
   "source": [
    "a = 4\n",
    "muen = 7\n",
    "btnOK = 1\n",
    "meineVar = 1"
   ]
  }
 ],
 "metadata": {
  "language_info": {
   "name": "python"
  },
  "orig_nbformat": 4
 },
 "nbformat": 4,
 "nbformat_minor": 2
}
