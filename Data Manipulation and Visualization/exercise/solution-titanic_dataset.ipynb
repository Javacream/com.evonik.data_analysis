{
 "cells": [
  {
   "cell_type": "code",
   "execution_count": null,
   "metadata": {
    "_cell_guid": "b1076dfc-b9ad-4769-8c92-a6c4dae69d19",
    "_uuid": "8f2839f25d086af736a60e9eeb907d3b93b6e0e5"
   },
   "outputs": [],
   "source": [
    "import os\n",
    "import numpy as np\n",
    "import pandas as pd\n",
    "\n",
    "def explore(dataFrame):\n",
    "    dataFrame.info()\n",
    "def cleanup(dataFrame):\n",
    "    del dataFrame['PassengerId']\n",
    "    dataFrame.loc[dataFrame[\"Age\"].isnull(),\"Age\"] = 42.2\n",
    "    dataFrame.loc[dataFrame[\"Embarked\"].isnull(),\"Embarked\"] = \"U\"\n",
    "\n",
    "    categorizedSurvival = pd.Categorical(dataFrame[\"Survived\"])\n",
    "    categorizedSurvival = categorizedSurvival.rename_categories(['died', 'survived'])\n",
    "    dataFrame[\"Survived\"] = categorizedSurvival\n",
    "    categorizedSex = pd.Categorical(dataFrame[\"Survived\"])\n",
    "    categorizedSex = categorizedSex.rename_categories({'male': 'Male', 'female': 'Female'})\n",
    "    dataFrame[\"Sex\"] = categorizedSex\n",
    "    categorizedEmbarked = pd.Categorical(dataFrame[\"Embarked\"])\n",
    "    categorizedEmbarked = categorizedEmbarked.rename_categories(new_categories= {'S': 'Southhampton', 'C': 'Cherbourg', 'Q':'Queenstown', 'U': \"Unknown\"})\n",
    "    dataFrame[\"Embarked\"] = categorizedEmbarked\n",
    "    categorizedPclass = pd.Categorical(dataFrame[\"Pclass\"])\n",
    "    categorizedPclass = categorizedPclass.rename_categories(new_categories= {0: 'First', 1: 'Second', 2:'Third'})\n",
    "    dataFrame[\"Pclass\"] = categorizedPclass\n",
    "\n",
    "    cabinDataAsString = dataFrame[\"Cabin\"].astype('str')\n",
    "    corePythonCabinList = [cabin[0] for cabin in cabinDataAsString]\n",
    "    numpyCabinArray = np.array(corePythonCabinList) \n",
    "    categorizedCabin = pd.Categorical(numpyCabinArray)\n",
    "    dataFrame[\"Cabin\"] = categorizedCabin\n",
    "    print(dataFrame.isnull().values.sum())\n",
    "\n",
    "def createDataFrame():\n",
    "    titanicData = pd.read_csv(\"./titanic_part1.csv\")\n",
    "    incompleteTitanicData = pd.read_csv(\"./titanic_part2_incomplete.csv\")\n",
    "    incompleteTitanicSurvicedData = pd.read_csv(\"./titanic_part2_survival.csv\")\n",
    "    titanicData2 = pd.merge(incompleteTitanicData, incompleteTitanicSurvicedData, how=\"inner\", on=\"PassengerId\")\n",
    "    complete = pd.concat([titanicData, titanicData2])\n",
    "    return complete\n",
    "\n",
    "dataFrame = createDataFrame()\n",
    "explore(dataFrame)\n",
    "cleanup(dataFrame)"
   ]
  }
 ],
 "metadata": {
  "kernelspec": {
   "display_name": "Python 3",
   "language": "python",
   "name": "python3"
  },
  "language_info": {
   "codemirror_mode": {
    "name": "ipython",
    "version": 3
   },
   "file_extension": ".py",
   "mimetype": "text/x-python",
   "name": "python",
   "nbconvert_exporter": "python",
   "pygments_lexer": "ipython3",
   "version": "3.6.6"
  }
 },
 "nbformat": 4,
 "nbformat_minor": 4
}
